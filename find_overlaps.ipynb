{
 "cells": [
  {
   "cell_type": "markdown",
   "metadata": {},
   "source": [
    "https://codereview.stackexchange.com/a/190021/123200"
   ]
  },
  {
   "cell_type": "code",
   "execution_count": 1,
   "metadata": {
    "ExecuteTime": {
     "end_time": "2018-03-21T12:51:11.404406Z",
     "start_time": "2018-03-21T12:51:11.263770Z"
    }
   },
   "outputs": [],
   "source": [
    "from collections import namedtuple\n",
    "from itertools import combinations\n",
    "\n",
    "import numpy as np"
   ]
  },
  {
   "cell_type": "code",
   "execution_count": 2,
   "metadata": {
    "ExecuteTime": {
     "end_time": "2018-03-21T12:51:11.513796Z",
     "start_time": "2018-03-21T12:51:11.404406Z"
    }
   },
   "outputs": [],
   "source": [
    "def duo_overlap(S1, S2, perc):\n",
    "\n",
    "    pulse_id_t1, pulse_id_t2 = [], []\n",
    "\n",
    "    start = max(S1.start, S2.start) - max(S1.width, S2.width)\n",
    "    if start <= 0:\n",
    "        start = 0\n",
    "        start_id_S1 = 0\n",
    "        start_id_S2 = 0\n",
    "    else:\n",
    "        start_id_S1 = S1.find_closest_t(start)[1]\n",
    "        start_id_S2 = S2.find_closest_t(start)[1]\n",
    "\n",
    "    stop = min(S1.end, S2.end) + max(S1.width, S2.width)\n",
    "\n",
    "    for i in range(start_id_S1, len(S1.timeline)):\n",
    "        if S1.timeline[i] > stop:\n",
    "            break\n",
    "\n",
    "        for j in range(start_id_S2, len(S2.timeline)):\n",
    "            if S2.timeline[j] > stop:\n",
    "                break\n",
    "\n",
    "            d = round(abs(S2.timeline[j] - S1.timeline[i]), 3)  # Computation of the distance of the 2 point\n",
    "\n",
    "            if S1.timeline[i] <= S2.timeline[j] and d < S1.width:\n",
    "                pulse_id_t1.append(i)\n",
    "                pulse_id_t2.append(j)\n",
    "                continue\n",
    "\n",
    "            elif S1.timeline[i] >= S2.timeline[j] and d < S2.width:\n",
    "                pulse_id_t1.append(i)\n",
    "                pulse_id_t2.append(j)\n",
    "                continue\n",
    "\n",
    "            else:\n",
    "                continue\n",
    "\n",
    "    return pulse_id_t1, pulse_id_t2"
   ]
  },
  {
   "cell_type": "code",
   "execution_count": 3,
   "metadata": {
    "ExecuteTime": {
     "end_time": "2018-03-21T12:51:11.545047Z",
     "start_time": "2018-03-21T12:51:11.513796Z"
    }
   },
   "outputs": [],
   "source": [
    "def overlap_duo_combination(signals, perc=0, func=duo_overlap):\n",
    "\n",
    "    overlap = {i: [] for i, _ in enumerate(signals)}\n",
    "\n",
    "    for (i0, signal0), (i1, signal1) in combinations(enumerate(signals), 2):\n",
    "        if not (signal0 and signal1):\n",
    "            continue\n",
    "        p1, p2 = func(signal0, signal1, perc = perc)\n",
    "        overlap[i0] += p1\n",
    "        overlap[i1] += p2\n",
    "\n",
    "    return overlap"
   ]
  },
  {
   "cell_type": "code",
   "execution_count": 4,
   "metadata": {
    "ExecuteTime": {
     "end_time": "2018-03-21T12:51:11.638806Z",
     "start_time": "2018-03-21T12:51:11.545047Z"
    }
   },
   "outputs": [],
   "source": [
    "class Signal:\n",
    "    def __init__(self, freq, start, end, width=0.3):\n",
    "        self.freq = freq                                    # frequency in Hz\n",
    "        self.width = float(width)                       # cathodic phase width in ms\n",
    "        self.start = start                                    # Instant of the first pulse in ms\n",
    "        self.end = end                                    # End point in ms\n",
    "\n",
    "        # List of instant at which a stim pulse is triggered in ms\n",
    "        self.timeline = np.round(np.arange(start, end, 1000/freq), 3)\n",
    "        self.pulses = np.stack((self.timeline, self.timeline + self.width), axis=1)\n",
    "        \n",
    "    def find_closest_t(self, t):\n",
    "        val = min(self.timeline, key=lambda x:abs(x-t))\n",
    "        id = np.where(self.timeline==val)[0][0]\n",
    "\n",
    "        if val <= t or id == 0:\n",
    "            return val, id\n",
    "        else:\n",
    "            return self.timeline[id-1], id-1\n",
    "\n",
    "    def find_closest_t_np(self, t):\n",
    "        idx = max(np.searchsorted(self.timeline, t) - 1, 0)\n",
    "        return idx\n",
    "        \n",
    "    def __iter__(self):\n",
    "        return iter(self.pulses)\n",
    "        # or yield from map(tuple, self.pulses) # if you need tuples\n",
    "    \n",
    "    def __bool__(self):\n",
    "        return bool(self.timeline.size)"
   ]
  },
  {
   "cell_type": "code",
   "execution_count": 5,
   "metadata": {
    "ExecuteTime": {
     "end_time": "2018-03-21T12:51:11.654433Z",
     "start_time": "2018-03-21T12:51:11.638806Z"
    }
   },
   "outputs": [],
   "source": [
    "S0 = Signal(20 , 100, 0,)  # empty\n",
    "S1 = Signal(50, 0, 250)\n",
    "S2 = Signal(30, 10, 300, 2)\n",
    "S3 = Signal(20, -10, 280, 2)\n",
    "signals = S0, S1, S2, S3"
   ]
  },
  {
   "cell_type": "code",
   "execution_count": 6,
   "metadata": {
    "ExecuteTime": {
     "end_time": "2018-03-21T12:51:11.716943Z",
     "start_time": "2018-03-21T12:51:11.654433Z"
    }
   },
   "outputs": [],
   "source": [
    "def duo_overlap_np(S1, S2, perc):\n",
    "    p1_overlapping = np.zeros_like(S1.timeline)\n",
    "    p2_overlapping = np.zeros_like(S2.timeline)\n",
    "\n",
    "    start = max(S1.start, S2.start)\n",
    "    start_id_S1 = S1.find_closest_t_np(start)\n",
    "\n",
    "    stop = min(S1.pulses[-1][1], S2.pulses[-1][1])\n",
    "    for i, (s1, s1_end) in enumerate(S1.pulses[start_id_S1:], start_id_S1):\n",
    "        if s1 > stop:\n",
    "            break\n",
    "\n",
    "        start_id_S2 = S2.find_closest_t_np(s1)\n",
    "        for j, (s2, s2_end) in enumerate(S2.pulses[start_id_S2:], start_id_S2):\n",
    "            if s2 > s1_end:\n",
    "                break\n",
    "            if s1 > s2_end:\n",
    "                continue\n",
    "            p1_overlapping[i] = 1\n",
    "            p2_overlapping[j] = 1\n",
    "                \n",
    "    return list(np.nonzero(p1_overlapping)[0]), list(np.nonzero(p2_overlapping)[0])"
   ]
  },
  {
   "cell_type": "code",
   "execution_count": 7,
   "metadata": {
    "ExecuteTime": {
     "end_time": "2018-03-21T12:51:11.732567Z",
     "start_time": "2018-03-21T12:51:11.716943Z"
    }
   },
   "outputs": [],
   "source": [
    "def find_overlap(pulses):\n",
    "    for p0, p1 in combinations(pulses, 2):\n",
    "        p = frozenset(((p0.name, p0.index), (p1.name, p1.index)))\n",
    "        if p1.start <= p0.end and p0.start <= p1.end:\n",
    "            yield p"
   ]
  },
  {
   "cell_type": "code",
   "execution_count": 8,
   "metadata": {
    "ExecuteTime": {
     "end_time": "2018-03-21T12:51:11.779450Z",
     "start_time": "2018-03-21T12:51:11.732567Z"
    }
   },
   "outputs": [],
   "source": [
    "from collections import namedtuple\n",
    "\n",
    "def duo_overlap_iter(signals, perc=0):\n",
    "    pulse = namedtuple('Pulse', 'name iter index start end ')\n",
    "    iters = ((i, iter(signal)) for i, signal in enumerate(signals) if signal)\n",
    "    iters = {name: pulse(name, it, 0, *next(it)) for name, it in iters}\n",
    "    seen = set()\n",
    "    \n",
    "    while iters:\n",
    "        for overlap in find_overlap(iters.values()):\n",
    "            if overlap not in seen:\n",
    "                yield overlap\n",
    "                seen.add(overlap)\n",
    "        try:\n",
    "            p0 = min(iters.values(), key=lambda x: (x.end, -x.start))\n",
    "            iters[p0.name] = pulse(p0.name, p0.iter, p0.index + 1, *next(p0.iter))\n",
    "        except StopIteration:\n",
    "            del iters[p0.name]"
   ]
  },
  {
   "cell_type": "code",
   "execution_count": 9,
   "metadata": {
    "ExecuteTime": {
     "end_time": "2018-03-21T12:51:11.795082Z",
     "start_time": "2018-03-21T12:51:11.779450Z"
    }
   },
   "outputs": [],
   "source": [
    "def overlap_duo_comb_iter(signals, perc=0):\n",
    "\n",
    "    overlap = {i: [] for i, _ in enumerate(signals)}\n",
    "\n",
    "    for (s0, i0), (s1, i1) in duo_overlap_iter(signals):\n",
    "        overlap[s0].append(i0)\n",
    "        overlap[s1].append(i1)\n",
    "\n",
    "    return overlap"
   ]
  },
  {
   "cell_type": "code",
   "execution_count": 10,
   "metadata": {
    "ExecuteTime": {
     "end_time": "2018-03-21T12:51:13.045216Z",
     "start_time": "2018-03-21T12:51:11.795082Z"
    }
   },
   "outputs": [
    {
     "name": "stdout",
     "output_type": "stream",
     "text": [
      "{0: [], 1: [2, 7, 12], 2: [], 3: [1, 3, 5]}\n",
      "1.33 ms ± 72.4 µs per loop (mean ± std. dev. of 7 runs, 100 loops each)\n"
     ]
    }
   ],
   "source": [
    "print(overlap_duo_combination(signals))\n",
    "% timeit overlap_duo_combination(signals)"
   ]
  },
  {
   "cell_type": "code",
   "execution_count": 11,
   "metadata": {
    "ExecuteTime": {
     "end_time": "2018-03-21T12:51:15.326882Z",
     "start_time": "2018-03-21T12:51:13.045216Z"
    }
   },
   "outputs": [
    {
     "name": "stdout",
     "output_type": "stream",
     "text": [
      "{0: [], 1: [2, 7, 12], 2: [], 3: [1, 3, 5]}\n",
      "267 µs ± 4.75 µs per loop (mean ± std. dev. of 7 runs, 1000 loops each)\n"
     ]
    }
   ],
   "source": [
    "print(overlap_duo_combination(signals, func=duo_overlap_np))\n",
    "assert overlap_duo_combination(signals) == overlap_duo_combination(signals, func=duo_overlap_np)\n",
    "% timeit overlap_duo_combination(signals, func=duo_overlap_np)"
   ]
  },
  {
   "cell_type": "code",
   "execution_count": 12,
   "metadata": {
    "ExecuteTime": {
     "end_time": "2018-03-21T12:51:20.436631Z",
     "start_time": "2018-03-21T12:51:15.326882Z"
    }
   },
   "outputs": [
    {
     "name": "stdout",
     "output_type": "stream",
     "text": [
      "{0: [], 1: [2, 7, 12], 2: [], 3: [1, 3, 5]}\n",
      "600 µs ± 12.6 µs per loop (mean ± std. dev. of 7 runs, 1000 loops each)\n"
     ]
    }
   ],
   "source": [
    "print(overlap_duo_comb_iter(signals))\n",
    "assert overlap_duo_combination(signals) == overlap_duo_comb_iter(signals,)\n",
    "% timeit overlap_duo_comb_iter(signals)"
   ]
  },
  {
   "cell_type": "code",
   "execution_count": 13,
   "metadata": {
    "ExecuteTime": {
     "end_time": "2018-03-21T12:51:25.530930Z",
     "start_time": "2018-03-21T12:51:20.436631Z"
    }
   },
   "outputs": [
    {
     "name": "stdout",
     "output_type": "stream",
     "text": [
      "[frozenset({(1, 2), (3, 1)}), frozenset({(3, 3), (1, 7)}), frozenset({(1, 12), (3, 5)})]\n",
      "605 µs ± 33.5 µs per loop (mean ± std. dev. of 7 runs, 1000 loops each)\n"
     ]
    }
   ],
   "source": [
    "print(list(duo_overlap_iter(signals)))\n",
    "% timeit list(duo_overlap_iter(signals))"
   ]
  }
 ],
 "metadata": {
  "hide_input": false,
  "kernelspec": {
   "display_name": "test_env",
   "language": "python",
   "name": "test_env"
  },
  "language_info": {
   "codemirror_mode": {
    "name": "ipython",
    "version": 3
   },
   "file_extension": ".py",
   "mimetype": "text/x-python",
   "name": "python",
   "nbconvert_exporter": "python",
   "pygments_lexer": "ipython3",
   "version": "3.6.3"
  },
  "toc": {
   "nav_menu": {},
   "number_sections": true,
   "sideBar": true,
   "skip_h1_title": false,
   "title_cell": "Table of Contents",
   "title_sidebar": "Contents",
   "toc_cell": false,
   "toc_position": {},
   "toc_section_display": "block",
   "toc_window_display": false
  },
  "varInspector": {
   "cols": {
    "lenName": 16,
    "lenType": 16,
    "lenVar": 40
   },
   "kernels_config": {
    "python": {
     "delete_cmd_postfix": "",
     "delete_cmd_prefix": "del ",
     "library": "var_list.py",
     "varRefreshCmd": "print(var_dic_list())"
    },
    "r": {
     "delete_cmd_postfix": ") ",
     "delete_cmd_prefix": "rm(",
     "library": "var_list.r",
     "varRefreshCmd": "cat(var_dic_list()) "
    }
   },
   "types_to_exclude": [
    "module",
    "function",
    "builtin_function_or_method",
    "instance",
    "_Feature"
   ],
   "window_display": false
  }
 },
 "nbformat": 4,
 "nbformat_minor": 2
}
