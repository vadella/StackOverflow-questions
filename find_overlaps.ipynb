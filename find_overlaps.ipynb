{
 "cells": [
  {
   "cell_type": "markdown",
   "metadata": {},
   "source": [
    "https://codereview.stackexchange.com/a/190021/123200"
   ]
  },
  {
   "cell_type": "code",
   "execution_count": 1,
   "metadata": {
    "ExecuteTime": {
     "end_time": "2018-03-21T11:51:03.887999Z",
     "start_time": "2018-03-21T11:51:03.747310Z"
    }
   },
   "outputs": [],
   "source": [
    "from collections import namedtuple\n",
    "from itertools import combinations\n",
    "\n",
    "import numpy as np"
   ]
  },
  {
   "cell_type": "code",
   "execution_count": 2,
   "metadata": {
    "ExecuteTime": {
     "end_time": "2018-03-21T11:51:04.028589Z",
     "start_time": "2018-03-21T11:51:03.887999Z"
    }
   },
   "outputs": [],
   "source": [
    "def duo_overlap(S1, S2, perc):\n",
    "\n",
    "    pulse_id_t1, pulse_id_t2 = [], []\n",
    "\n",
    "    start = max(S1.start, S2.start) - max(S1.width, S2.width)\n",
    "    if start <= 0:\n",
    "        start = 0\n",
    "        start_id_S1 = 0\n",
    "        start_id_S2 = 0\n",
    "    else:\n",
    "        start_id_S1 = S1.find_closest_t(start)[1]\n",
    "        start_id_S2 = S2.find_closest_t(start)[1]\n",
    "\n",
    "    stop = min(S1.end, S2.end) + max(S1.width, S2.width)\n",
    "\n",
    "    for i in range(start_id_S1, len(S1.timeline)):\n",
    "        if S1.timeline[i] > stop:\n",
    "            break\n",
    "\n",
    "        for j in range(start_id_S2, len(S2.timeline)):\n",
    "            if S2.timeline[j] > stop:\n",
    "                break\n",
    "\n",
    "            d = round(abs(S2.timeline[j] - S1.timeline[i]), 3)  # Computation of the distance of the 2 point\n",
    "\n",
    "            if S1.timeline[i] <= S2.timeline[j] and d < S1.width:\n",
    "                pulse_id_t1.append(i)\n",
    "                pulse_id_t2.append(j)\n",
    "                continue\n",
    "\n",
    "            elif S1.timeline[i] >= S2.timeline[j] and d < S2.width:\n",
    "                pulse_id_t1.append(i)\n",
    "                pulse_id_t2.append(j)\n",
    "                continue\n",
    "\n",
    "            else:\n",
    "                continue\n",
    "\n",
    "    return pulse_id_t1, pulse_id_t2"
   ]
  },
  {
   "cell_type": "code",
   "execution_count": 3,
   "metadata": {
    "ExecuteTime": {
     "end_time": "2018-03-21T11:51:04.059846Z",
     "start_time": "2018-03-21T11:51:04.028589Z"
    }
   },
   "outputs": [],
   "source": [
    "def overlap_duo_combination(signals, perc=0, func=duo_overlap):\n",
    "\n",
    "    overlap = {i: [] for i, _ in enumerate(signals)}\n",
    "\n",
    "    for (i0, signal0), (i1, signal1) in combinations(enumerate(signals), 2):\n",
    "        if not (signal0 and signal1):\n",
    "            continue\n",
    "        p1, p2 = func(signal0, signal1, perc = perc)\n",
    "        overlap[i0] += p1\n",
    "        overlap[i1] += p2\n",
    "\n",
    "    return overlap"
   ]
  },
  {
   "cell_type": "code",
   "execution_count": 4,
   "metadata": {
    "ExecuteTime": {
     "end_time": "2018-03-21T11:51:04.184858Z",
     "start_time": "2018-03-21T11:51:04.059846Z"
    }
   },
   "outputs": [],
   "source": [
    "class Signal:\n",
    "    def __init__(self, freq, start, end, width=0.3):\n",
    "        self.freq = freq                                    # frequency in Hz\n",
    "        self.width = float(width)                       # cathodic phase width in ms\n",
    "        self.start = start                                    # Instant of the first pulse in ms\n",
    "        self.end = end                                    # End point in ms\n",
    "\n",
    "        # List of instant at which a stim pulse is triggered in ms\n",
    "        self.timeline = np.round(np.arange(start, end, 1000/freq), 3)\n",
    "        \n",
    "    def find_closest_t(self, t):\n",
    "        val = min(self.timeline, key=lambda x:abs(x-t))\n",
    "        id = np.where(self.timeline==val)[0][0]\n",
    "\n",
    "        if val <= t or id == 0:\n",
    "            return val, id\n",
    "        else:\n",
    "            return self.timeline[id-1], id-1\n",
    "\n",
    "    def find_closest_t_np(self, t):\n",
    "        timeline = self.timeline\n",
    "        id = np.searchsorted(timeline, t)\n",
    "        if id == 0:\n",
    "            return timeline[0], id\n",
    "        else:\n",
    "            return timeline[id-1], id-1\n",
    "        \n",
    "    def __iter__(self):\n",
    "        for pulse_start in self.timeline:\n",
    "            yield pulse_start, (pulse_start + self.width).round(1)\n",
    "    \n",
    "    def __bool__(self):\n",
    "        return bool(self.timeline.size)"
   ]
  },
  {
   "cell_type": "code",
   "execution_count": 5,
   "metadata": {
    "ExecuteTime": {
     "end_time": "2018-03-21T11:51:04.294249Z",
     "start_time": "2018-03-21T11:51:04.184858Z"
    }
   },
   "outputs": [],
   "source": [
    "def duo_overlap_np(S1, S2, perc):\n",
    "    p1_overlapping = np.zeros(shape = (len(S1.timeline)))\n",
    "    p2_overlapping = np.zeros(shape = (len(S2.timeline)))\n",
    "\n",
    "    start = max(S1.start, S2.start) - max(S1.width, S2.width)\n",
    "    if start <= 0:\n",
    "        start = 0\n",
    "        start_id_S1 = 0\n",
    "        start_id_S2 = 0\n",
    "    else:\n",
    "        start_id_S1 = S1.find_closest_t_np(start)[1]\n",
    "        start_id_S2 = S2.find_closest_t_np(start)[1]\n",
    "\n",
    "    stop = min(S1.end, S2.end) + max(S1.width, S2.width)\n",
    "\n",
    "    for i in range(start_id_S1, len(S1.timeline)):\n",
    "        if S1.timeline[i] > stop:\n",
    "            break\n",
    "\n",
    "        for j in range(start_id_S2, len(S2.timeline)):\n",
    "            if S2.timeline[j] > stop:\n",
    "                break\n",
    "\n",
    "            d = round(abs(S2.timeline[j] - S1.timeline[i]), 3)  # Computation of the distance of the 2 point\n",
    "\n",
    "            if S1.timeline[i] <= S2.timeline[j] and d < S1.width:\n",
    "                p1_overlapping[i] = 1\n",
    "                p2_overlapping[j] = 1\n",
    "                continue\n",
    "\n",
    "            \n",
    "            elif S1.timeline[i] >= S2.timeline[j] and d < S2.width:\n",
    "                p1_overlapping[i] = 1\n",
    "                p2_overlapping[j] = 1\n",
    "                continue\n",
    "\n",
    "            else:\n",
    "                continue\n",
    "\n",
    "    return list(np.nonzero(p1_overlapping)[0]), list(np.nonzero(p2_overlapping)[0])"
   ]
  },
  {
   "cell_type": "code",
   "execution_count": 6,
   "metadata": {
    "ExecuteTime": {
     "end_time": "2018-03-21T11:51:04.325496Z",
     "start_time": "2018-03-21T11:51:04.294249Z"
    }
   },
   "outputs": [],
   "source": [
    "def find_overlap(pulses):\n",
    "    for p0, p1 in combinations(pulses, 2):\n",
    "        p = frozenset(((p0.name, p0.index), (p1.name, p1.index)))\n",
    "        if p1.start <= p0.end and p0.start <= p1.end:\n",
    "            yield p"
   ]
  },
  {
   "cell_type": "code",
   "execution_count": 7,
   "metadata": {
    "ExecuteTime": {
     "end_time": "2018-03-21T11:51:04.372377Z",
     "start_time": "2018-03-21T11:51:04.325496Z"
    }
   },
   "outputs": [],
   "source": [
    "from collections import namedtuple\n",
    "\n",
    "def duo_overlap_iter(signals, perc=0):\n",
    "    pulse = namedtuple('Pulse', 'name iter index start end ')\n",
    "    iters = ((i, iter(signal)) for i, signal in enumerate(signals) if signal)\n",
    "    iters = {name: pulse(name, it, 0, *next(it)) for name, it in iters}\n",
    "    seen = set()\n",
    "    \n",
    "    while iters:\n",
    "        for overlap in find_overlap(iters.values()):\n",
    "            if overlap not in seen:\n",
    "                yield overlap\n",
    "                seen.add(overlap)\n",
    "        try:\n",
    "            p0 = min(iters.values(), key=lambda x: (x.end, -x.start))\n",
    "            iters[p0.name] = pulse(p0.name, p0.iter, p0.index + 1, *next(p0.iter))\n",
    "        except StopIteration:\n",
    "            del iters[p0.name]"
   ]
  },
  {
   "cell_type": "code",
   "execution_count": 8,
   "metadata": {
    "ExecuteTime": {
     "end_time": "2018-03-21T11:51:04.403629Z",
     "start_time": "2018-03-21T11:51:04.372377Z"
    }
   },
   "outputs": [],
   "source": [
    "def overlap_duo_comb_iter(signals, perc=0):\n",
    "\n",
    "    overlap = {i: [] for i, _ in enumerate(signals)}\n",
    "\n",
    "    for (s0, i0), (s1, i1) in duo_overlap_iter(signals):\n",
    "        overlap[s0].append(i0)\n",
    "        overlap[s1].append(i1)\n",
    "\n",
    "    return overlap"
   ]
  },
  {
   "cell_type": "code",
   "execution_count": 9,
   "metadata": {
    "ExecuteTime": {
     "end_time": "2018-03-21T11:51:04.434883Z",
     "start_time": "2018-03-21T11:51:04.403629Z"
    }
   },
   "outputs": [],
   "source": [
    "S0 = Signal(20 , 100, 0,)  # empty\n",
    "S1 = Signal(50, 0, 250)\n",
    "S2 = Signal(30, 10, 300, 2)\n",
    "S3 = Signal(20, -10, 280, 2)\n",
    "signals = S0, S1, S2, S3"
   ]
  },
  {
   "cell_type": "code",
   "execution_count": 10,
   "metadata": {
    "ExecuteTime": {
     "end_time": "2018-03-21T11:51:05.731929Z",
     "start_time": "2018-03-21T11:51:04.434883Z"
    }
   },
   "outputs": [
    {
     "name": "stdout",
     "output_type": "stream",
     "text": [
      "{0: [], 1: [2, 7, 12], 2: [], 3: [1, 3, 5]}\n",
      "1.46 ms ± 308 µs per loop (mean ± std. dev. of 7 runs, 100 loops each)\n"
     ]
    }
   ],
   "source": [
    "print(overlap_duo_combination(signals))\n",
    "% timeit overlap_duo_combination(signals)"
   ]
  },
  {
   "cell_type": "code",
   "execution_count": 11,
   "metadata": {
    "ExecuteTime": {
     "end_time": "2018-03-21T11:51:17.467541Z",
     "start_time": "2018-03-21T11:51:05.731929Z"
    }
   },
   "outputs": [
    {
     "name": "stdout",
     "output_type": "stream",
     "text": [
      "{0: [], 1: [2, 7, 12], 2: [], 3: [1, 3, 5]}\n",
      "1.45 ms ± 134 µs per loop (mean ± std. dev. of 7 runs, 1000 loops each)\n"
     ]
    }
   ],
   "source": [
    "print(overlap_duo_combination(signals, func=duo_overlap_np))\n",
    "assert overlap_duo_combination(signals) == overlap_duo_combination(signals, func=duo_overlap_np)\n",
    "% timeit overlap_duo_combination(signals, func=duo_overlap_np)"
   ]
  },
  {
   "cell_type": "code",
   "execution_count": 12,
   "metadata": {
    "ExecuteTime": {
     "end_time": "2018-03-21T11:51:23.796354Z",
     "start_time": "2018-03-21T11:51:17.467541Z"
    }
   },
   "outputs": [
    {
     "name": "stdout",
     "output_type": "stream",
     "text": [
      "{0: [], 1: [2, 7, 12], 2: [], 3: [1, 3, 5]}\n",
      "751 µs ± 21.6 µs per loop (mean ± std. dev. of 7 runs, 1000 loops each)\n"
     ]
    }
   ],
   "source": [
    "print(overlap_duo_comb_iter(signals))\n",
    "assert overlap_duo_combination(signals) == overlap_duo_comb_iter(signals,)\n",
    "% timeit overlap_duo_comb_iter(signals)"
   ]
  },
  {
   "cell_type": "code",
   "execution_count": 13,
   "metadata": {
    "ExecuteTime": {
     "end_time": "2018-03-21T11:51:29.984515Z",
     "start_time": "2018-03-21T11:51:23.796354Z"
    }
   },
   "outputs": [
    {
     "name": "stdout",
     "output_type": "stream",
     "text": [
      "[frozenset({(1, 2), (3, 1)}), frozenset({(3, 3), (1, 7)}), frozenset({(1, 12), (3, 5)})]\n",
      "737 µs ± 12.8 µs per loop (mean ± std. dev. of 7 runs, 1000 loops each)\n"
     ]
    }
   ],
   "source": [
    "print(list(duo_overlap_iter(signals)))\n",
    "% timeit list(duo_overlap_iter(signals))"
   ]
  }
 ],
 "metadata": {
  "hide_input": false,
  "kernelspec": {
   "display_name": "test_env",
   "language": "python",
   "name": "test_env"
  },
  "language_info": {
   "codemirror_mode": {
    "name": "ipython",
    "version": 3
   },
   "file_extension": ".py",
   "mimetype": "text/x-python",
   "name": "python",
   "nbconvert_exporter": "python",
   "pygments_lexer": "ipython3",
   "version": "3.6.3"
  },
  "toc": {
   "nav_menu": {},
   "number_sections": true,
   "sideBar": true,
   "skip_h1_title": false,
   "title_cell": "Table of Contents",
   "title_sidebar": "Contents",
   "toc_cell": false,
   "toc_position": {},
   "toc_section_display": "block",
   "toc_window_display": false
  },
  "varInspector": {
   "cols": {
    "lenName": 16,
    "lenType": 16,
    "lenVar": 40
   },
   "kernels_config": {
    "python": {
     "delete_cmd_postfix": "",
     "delete_cmd_prefix": "del ",
     "library": "var_list.py",
     "varRefreshCmd": "print(var_dic_list())"
    },
    "r": {
     "delete_cmd_postfix": ") ",
     "delete_cmd_prefix": "rm(",
     "library": "var_list.r",
     "varRefreshCmd": "cat(var_dic_list()) "
    }
   },
   "types_to_exclude": [
    "module",
    "function",
    "builtin_function_or_method",
    "instance",
    "_Feature"
   ],
   "window_display": false
  }
 },
 "nbformat": 4,
 "nbformat_minor": 2
}
