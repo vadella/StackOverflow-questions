{
 "cells": [
  {
   "cell_type": "markdown",
   "metadata": {},
   "source": [
    "http://rosalind.info/problems/lexv/\n",
    "https://stackoverflow.com/q/44719951/1562285"
   ]
  },
  {
   "cell_type": "code",
   "execution_count": 1,
   "metadata": {
    "ExecuteTime": {
     "end_time": "2017-06-23T13:50:36.193206Z",
     "start_time": "2017-06-23T13:50:36.188192Z"
    },
    "collapsed": true
   },
   "outputs": [],
   "source": [
    "import collections\n",
    "import itertools"
   ]
  },
  {
   "cell_type": "code",
   "execution_count": 2,
   "metadata": {
    "ExecuteTime": {
     "end_time": "2017-06-23T13:50:36.214269Z",
     "start_time": "2017-06-23T13:50:36.202232Z"
    },
    "collapsed": true
   },
   "outputs": [],
   "source": [
    "alphabet = 'd n a'\n",
    "repeats = 4\n",
    "alphabet_list = alphabet.split()"
   ]
  },
  {
   "cell_type": "markdown",
   "metadata": {},
   "source": [
    "# Generating the combinations"
   ]
  },
  {
   "cell_type": "code",
   "execution_count": 15,
   "metadata": {
    "ExecuteTime": {
     "end_time": "2017-06-23T13:59:49.910203Z",
     "start_time": "2017-06-23T13:59:49.886139Z"
    }
   },
   "outputs": [
    {
     "data": {
      "text/plain": [
       "[(0,),\n",
       " (1,),\n",
       " (2,),\n",
       " (0, 0),\n",
       " (0, 1),\n",
       " (0, 2),\n",
       " (1, 0),\n",
       " (1, 1),\n",
       " (1, 2),\n",
       " (2, 0),\n",
       " (2, 1),\n",
       " (2, 2),\n",
       " (0, 0, 0),\n",
       " (0, 0, 1),\n",
       " (0, 0, 2),\n",
       " (0, 1, 0),\n",
       " (0, 1, 1),\n",
       " (0, 1, 2),\n",
       " (0, 2, 0),\n",
       " (0, 2, 1),\n",
       " (0, 2, 2),\n",
       " (1, 0, 0),\n",
       " (1, 0, 1),\n",
       " (1, 0, 2),\n",
       " (1, 1, 0),\n",
       " (1, 1, 1),\n",
       " (1, 1, 2),\n",
       " (1, 2, 0),\n",
       " (1, 2, 1),\n",
       " (1, 2, 2),\n",
       " (2, 0, 0),\n",
       " (2, 0, 1),\n",
       " (2, 0, 2),\n",
       " (2, 1, 0),\n",
       " (2, 1, 1),\n",
       " (2, 1, 2),\n",
       " (2, 2, 0),\n",
       " (2, 2, 1),\n",
       " (2, 2, 2),\n",
       " (0, 0, 0, 0),\n",
       " (0, 0, 0, 1),\n",
       " (0, 0, 0, 2),\n",
       " (0, 0, 1, 0),\n",
       " (0, 0, 1, 1),\n",
       " (0, 0, 1, 2),\n",
       " (0, 0, 2, 0),\n",
       " (0, 0, 2, 1),\n",
       " (0, 0, 2, 2),\n",
       " (0, 1, 0, 0),\n",
       " (0, 1, 0, 1),\n",
       " (0, 1, 0, 2),\n",
       " (0, 1, 1, 0),\n",
       " (0, 1, 1, 1),\n",
       " (0, 1, 1, 2),\n",
       " (0, 1, 2, 0),\n",
       " (0, 1, 2, 1),\n",
       " (0, 1, 2, 2),\n",
       " (0, 2, 0, 0),\n",
       " (0, 2, 0, 1),\n",
       " (0, 2, 0, 2),\n",
       " (0, 2, 1, 0),\n",
       " (0, 2, 1, 1),\n",
       " (0, 2, 1, 2),\n",
       " (0, 2, 2, 0),\n",
       " (0, 2, 2, 1),\n",
       " (0, 2, 2, 2),\n",
       " (1, 0, 0, 0),\n",
       " (1, 0, 0, 1),\n",
       " (1, 0, 0, 2),\n",
       " (1, 0, 1, 0),\n",
       " (1, 0, 1, 1),\n",
       " (1, 0, 1, 2),\n",
       " (1, 0, 2, 0),\n",
       " (1, 0, 2, 1),\n",
       " (1, 0, 2, 2),\n",
       " (1, 1, 0, 0),\n",
       " (1, 1, 0, 1),\n",
       " (1, 1, 0, 2),\n",
       " (1, 1, 1, 0),\n",
       " (1, 1, 1, 1),\n",
       " (1, 1, 1, 2),\n",
       " (1, 1, 2, 0),\n",
       " (1, 1, 2, 1),\n",
       " (1, 1, 2, 2),\n",
       " (1, 2, 0, 0),\n",
       " (1, 2, 0, 1),\n",
       " (1, 2, 0, 2),\n",
       " (1, 2, 1, 0),\n",
       " (1, 2, 1, 1),\n",
       " (1, 2, 1, 2),\n",
       " (1, 2, 2, 0),\n",
       " (1, 2, 2, 1),\n",
       " (1, 2, 2, 2),\n",
       " (2, 0, 0, 0),\n",
       " (2, 0, 0, 1),\n",
       " (2, 0, 0, 2),\n",
       " (2, 0, 1, 0),\n",
       " (2, 0, 1, 1),\n",
       " (2, 0, 1, 2),\n",
       " (2, 0, 2, 0),\n",
       " (2, 0, 2, 1),\n",
       " (2, 0, 2, 2),\n",
       " (2, 1, 0, 0),\n",
       " (2, 1, 0, 1),\n",
       " (2, 1, 0, 2),\n",
       " (2, 1, 1, 0),\n",
       " (2, 1, 1, 1),\n",
       " (2, 1, 1, 2),\n",
       " (2, 1, 2, 0),\n",
       " (2, 1, 2, 1),\n",
       " (2, 1, 2, 2),\n",
       " (2, 2, 0, 0),\n",
       " (2, 2, 0, 1),\n",
       " (2, 2, 0, 2),\n",
       " (2, 2, 1, 0),\n",
       " (2, 2, 1, 1),\n",
       " (2, 2, 1, 2),\n",
       " (2, 2, 2, 0),\n",
       " (2, 2, 2, 1),\n",
       " (2, 2, 2, 2)]"
      ]
     },
     "execution_count": 15,
     "metadata": {},
     "output_type": "execute_result"
    }
   ],
   "source": [
    "combinations_tuples = list(itertools.chain(*(itertools.product(range(len(alphabet_list)), repeat=i) for i in range(1, repeats + 1))))\n",
    "combinations_tuples"
   ]
  },
  {
   "cell_type": "code",
   "execution_count": 7,
   "metadata": {
    "ExecuteTime": {
     "end_time": "2017-06-23T13:50:36.346613Z",
     "start_time": "2017-06-23T13:50:36.331574Z"
    }
   },
   "outputs": [
    {
     "data": {
      "text/plain": [
       "['d',\n",
       " 'n',\n",
       " 'a',\n",
       " 'dd',\n",
       " 'dn',\n",
       " 'da',\n",
       " 'nd',\n",
       " 'nn',\n",
       " 'na',\n",
       " 'ad',\n",
       " 'an',\n",
       " 'aa',\n",
       " 'ddd',\n",
       " 'ddn',\n",
       " 'dda',\n",
       " 'dnd',\n",
       " 'dnn',\n",
       " 'dna',\n",
       " 'dad',\n",
       " 'dan',\n",
       " 'daa',\n",
       " 'ndd',\n",
       " 'ndn',\n",
       " 'nda',\n",
       " 'nnd',\n",
       " 'nnn',\n",
       " 'nna',\n",
       " 'nad',\n",
       " 'nan',\n",
       " 'naa',\n",
       " 'add',\n",
       " 'adn',\n",
       " 'ada',\n",
       " 'and',\n",
       " 'ann',\n",
       " 'ana',\n",
       " 'aad',\n",
       " 'aan',\n",
       " 'aaa',\n",
       " 'dddd',\n",
       " 'dddn',\n",
       " 'ddda',\n",
       " 'ddnd',\n",
       " 'ddnn',\n",
       " 'ddna',\n",
       " 'ddad',\n",
       " 'ddan',\n",
       " 'ddaa',\n",
       " 'dndd',\n",
       " 'dndn',\n",
       " 'dnda',\n",
       " 'dnnd',\n",
       " 'dnnn',\n",
       " 'dnna',\n",
       " 'dnad',\n",
       " 'dnan',\n",
       " 'dnaa',\n",
       " 'dadd',\n",
       " 'dadn',\n",
       " 'dada',\n",
       " 'dand',\n",
       " 'dann',\n",
       " 'dana',\n",
       " 'daad',\n",
       " 'daan',\n",
       " 'daaa',\n",
       " 'nddd',\n",
       " 'nddn',\n",
       " 'ndda',\n",
       " 'ndnd',\n",
       " 'ndnn',\n",
       " 'ndna',\n",
       " 'ndad',\n",
       " 'ndan',\n",
       " 'ndaa',\n",
       " 'nndd',\n",
       " 'nndn',\n",
       " 'nnda',\n",
       " 'nnnd',\n",
       " 'nnnn',\n",
       " 'nnna',\n",
       " 'nnad',\n",
       " 'nnan',\n",
       " 'nnaa',\n",
       " 'nadd',\n",
       " 'nadn',\n",
       " 'nada',\n",
       " 'nand',\n",
       " 'nann',\n",
       " 'nana',\n",
       " 'naad',\n",
       " 'naan',\n",
       " 'naaa',\n",
       " 'addd',\n",
       " 'addn',\n",
       " 'adda',\n",
       " 'adnd',\n",
       " 'adnn',\n",
       " 'adna',\n",
       " 'adad',\n",
       " 'adan',\n",
       " 'adaa',\n",
       " 'andd',\n",
       " 'andn',\n",
       " 'anda',\n",
       " 'annd',\n",
       " 'annn',\n",
       " 'anna',\n",
       " 'anad',\n",
       " 'anan',\n",
       " 'anaa',\n",
       " 'aadd',\n",
       " 'aadn',\n",
       " 'aada',\n",
       " 'aand',\n",
       " 'aann',\n",
       " 'aana',\n",
       " 'aaad',\n",
       " 'aaan',\n",
       " 'aaaa']"
      ]
     },
     "execution_count": 7,
     "metadata": {},
     "output_type": "execute_result"
    }
   ],
   "source": [
    "combinations = list(''.join(i) for i in itertools.chain(*(itertools.product(alphabet_list, repeat=i) for i in range(1, repeats + 1))))\n",
    "combinations"
   ]
  },
  {
   "cell_type": "markdown",
   "metadata": {
    "ExecuteTime": {
     "end_time": "2017-06-23T13:52:53.827140Z",
     "start_time": "2017-06-23T13:52:53.822127Z"
    }
   },
   "source": [
    "# Sorting"
   ]
  },
  {
   "cell_type": "markdown",
   "metadata": {
    "ExecuteTime": {
     "end_time": "2017-06-23T13:47:22.448636Z",
     "start_time": "2017-06-23T13:47:22.443633Z"
    }
   },
   "source": [
    "## tuples"
   ]
  },
  {
   "cell_type": "code",
   "execution_count": 13,
   "metadata": {
    "ExecuteTime": {
     "end_time": "2017-06-23T13:51:51.416451Z",
     "start_time": "2017-06-23T13:51:51.407427Z"
    }
   },
   "outputs": [
    {
     "data": {
      "text/plain": [
       "['d',\n",
       " 'dd',\n",
       " 'ddd',\n",
       " 'dddd',\n",
       " 'dddn',\n",
       " 'ddda',\n",
       " 'ddn',\n",
       " 'ddnd',\n",
       " 'ddnn',\n",
       " 'ddna',\n",
       " 'dda',\n",
       " 'ddad',\n",
       " 'ddan',\n",
       " 'ddaa',\n",
       " 'dn',\n",
       " 'dnd',\n",
       " 'dndd',\n",
       " 'dndn',\n",
       " 'dnda',\n",
       " 'dnn',\n",
       " 'dnnd',\n",
       " 'dnnn',\n",
       " 'dnna',\n",
       " 'dna',\n",
       " 'dnad',\n",
       " 'dnan',\n",
       " 'dnaa',\n",
       " 'da',\n",
       " 'dad',\n",
       " 'dadd',\n",
       " 'dadn',\n",
       " 'dada',\n",
       " 'dan',\n",
       " 'dand',\n",
       " 'dann',\n",
       " 'dana',\n",
       " 'daa',\n",
       " 'daad',\n",
       " 'daan',\n",
       " 'daaa',\n",
       " 'n',\n",
       " 'nd',\n",
       " 'ndd',\n",
       " 'nddd',\n",
       " 'nddn',\n",
       " 'ndda',\n",
       " 'ndn',\n",
       " 'ndnd',\n",
       " 'ndnn',\n",
       " 'ndna',\n",
       " 'nda',\n",
       " 'ndad',\n",
       " 'ndan',\n",
       " 'ndaa',\n",
       " 'nn',\n",
       " 'nnd',\n",
       " 'nndd',\n",
       " 'nndn',\n",
       " 'nnda',\n",
       " 'nnn',\n",
       " 'nnnd',\n",
       " 'nnnn',\n",
       " 'nnna',\n",
       " 'nna',\n",
       " 'nnad',\n",
       " 'nnan',\n",
       " 'nnaa',\n",
       " 'na',\n",
       " 'nad',\n",
       " 'nadd',\n",
       " 'nadn',\n",
       " 'nada',\n",
       " 'nan',\n",
       " 'nand',\n",
       " 'nann',\n",
       " 'nana',\n",
       " 'naa',\n",
       " 'naad',\n",
       " 'naan',\n",
       " 'naaa',\n",
       " 'a',\n",
       " 'ad',\n",
       " 'add',\n",
       " 'addd',\n",
       " 'addn',\n",
       " 'adda',\n",
       " 'adn',\n",
       " 'adnd',\n",
       " 'adnn',\n",
       " 'adna',\n",
       " 'ada',\n",
       " 'adad',\n",
       " 'adan',\n",
       " 'adaa',\n",
       " 'an',\n",
       " 'and',\n",
       " 'andd',\n",
       " 'andn',\n",
       " 'anda',\n",
       " 'ann',\n",
       " 'annd',\n",
       " 'annn',\n",
       " 'anna',\n",
       " 'ana',\n",
       " 'anad',\n",
       " 'anan',\n",
       " 'anaa',\n",
       " 'aa',\n",
       " 'aad',\n",
       " 'aadd',\n",
       " 'aadn',\n",
       " 'aada',\n",
       " 'aan',\n",
       " 'aand',\n",
       " 'aann',\n",
       " 'aana',\n",
       " 'aaa',\n",
       " 'aaad',\n",
       " 'aaan',\n",
       " 'aaaa']"
      ]
     },
     "execution_count": 13,
     "metadata": {},
     "output_type": "execute_result"
    }
   ],
   "source": [
    "[''.join(alphabet_list[j] for j in i) for i in sorted(combinations_tuples)]"
   ]
  },
  {
   "cell_type": "markdown",
   "metadata": {},
   "source": [
    "## sorted  key= tuple"
   ]
  },
  {
   "cell_type": "code",
   "execution_count": 6,
   "metadata": {
    "ExecuteTime": {
     "end_time": "2017-06-23T13:50:36.328566Z",
     "start_time": "2017-06-23T13:50:36.310518Z"
    }
   },
   "outputs": [
    {
     "data": {
      "text/plain": [
       "{'a': 2, 'd': 0, 'n': 1}"
      ]
     },
     "execution_count": 6,
     "metadata": {},
     "output_type": "execute_result"
    }
   ],
   "source": [
    "trans_dict = {k: i for i, k in enumerate(alphabet_list)}\n",
    "trans_dict"
   ]
  },
  {
   "cell_type": "code",
   "execution_count": 8,
   "metadata": {
    "ExecuteTime": {
     "end_time": "2017-06-23T13:50:36.369676Z",
     "start_time": "2017-06-23T13:50:36.349621Z"
    }
   },
   "outputs": [
    {
     "data": {
      "text/plain": [
       "(0, 1, 2)"
      ]
     },
     "execution_count": 8,
     "metadata": {},
     "output_type": "execute_result"
    }
   ],
   "source": [
    "tuple(trans_dict[i] for i in 'dna')"
   ]
  },
  {
   "cell_type": "code",
   "execution_count": 9,
   "metadata": {
    "ExecuteTime": {
     "end_time": "2017-06-23T13:50:36.399757Z",
     "start_time": "2017-06-23T13:50:36.372685Z"
    }
   },
   "outputs": [
    {
     "data": {
      "text/plain": [
       "['d',\n",
       " 'dd',\n",
       " 'ddd',\n",
       " 'dddd',\n",
       " 'dddn',\n",
       " 'ddda',\n",
       " 'ddn',\n",
       " 'ddnd',\n",
       " 'ddnn',\n",
       " 'ddna',\n",
       " 'dda',\n",
       " 'ddad',\n",
       " 'ddan',\n",
       " 'ddaa',\n",
       " 'dn',\n",
       " 'dnd',\n",
       " 'dndd',\n",
       " 'dndn',\n",
       " 'dnda',\n",
       " 'dnn',\n",
       " 'dnnd',\n",
       " 'dnnn',\n",
       " 'dnna',\n",
       " 'dna',\n",
       " 'dnad',\n",
       " 'dnan',\n",
       " 'dnaa',\n",
       " 'da',\n",
       " 'dad',\n",
       " 'dadd',\n",
       " 'dadn',\n",
       " 'dada',\n",
       " 'dan',\n",
       " 'dand',\n",
       " 'dann',\n",
       " 'dana',\n",
       " 'daa',\n",
       " 'daad',\n",
       " 'daan',\n",
       " 'daaa',\n",
       " 'n',\n",
       " 'nd',\n",
       " 'ndd',\n",
       " 'nddd',\n",
       " 'nddn',\n",
       " 'ndda',\n",
       " 'ndn',\n",
       " 'ndnd',\n",
       " 'ndnn',\n",
       " 'ndna',\n",
       " 'nda',\n",
       " 'ndad',\n",
       " 'ndan',\n",
       " 'ndaa',\n",
       " 'nn',\n",
       " 'nnd',\n",
       " 'nndd',\n",
       " 'nndn',\n",
       " 'nnda',\n",
       " 'nnn',\n",
       " 'nnnd',\n",
       " 'nnnn',\n",
       " 'nnna',\n",
       " 'nna',\n",
       " 'nnad',\n",
       " 'nnan',\n",
       " 'nnaa',\n",
       " 'na',\n",
       " 'nad',\n",
       " 'nadd',\n",
       " 'nadn',\n",
       " 'nada',\n",
       " 'nan',\n",
       " 'nand',\n",
       " 'nann',\n",
       " 'nana',\n",
       " 'naa',\n",
       " 'naad',\n",
       " 'naan',\n",
       " 'naaa',\n",
       " 'a',\n",
       " 'ad',\n",
       " 'add',\n",
       " 'addd',\n",
       " 'addn',\n",
       " 'adda',\n",
       " 'adn',\n",
       " 'adnd',\n",
       " 'adnn',\n",
       " 'adna',\n",
       " 'ada',\n",
       " 'adad',\n",
       " 'adan',\n",
       " 'adaa',\n",
       " 'an',\n",
       " 'and',\n",
       " 'andd',\n",
       " 'andn',\n",
       " 'anda',\n",
       " 'ann',\n",
       " 'annd',\n",
       " 'annn',\n",
       " 'anna',\n",
       " 'ana',\n",
       " 'anad',\n",
       " 'anan',\n",
       " 'anaa',\n",
       " 'aa',\n",
       " 'aad',\n",
       " 'aadd',\n",
       " 'aadn',\n",
       " 'aada',\n",
       " 'aan',\n",
       " 'aand',\n",
       " 'aann',\n",
       " 'aana',\n",
       " 'aaa',\n",
       " 'aaad',\n",
       " 'aaan',\n",
       " 'aaaa']"
      ]
     },
     "execution_count": 9,
     "metadata": {},
     "output_type": "execute_result"
    }
   ],
   "source": [
    "sorted(combinations, key=lambda x:tuple(trans_dict[i] for i in x))"
   ]
  },
  {
   "cell_type": "markdown",
   "metadata": {},
   "source": [
    "## str.translate"
   ]
  },
  {
   "cell_type": "code",
   "execution_count": 10,
   "metadata": {
    "ExecuteTime": {
     "end_time": "2017-06-23T13:50:36.425831Z",
     "start_time": "2017-06-23T13:50:36.403766Z"
    }
   },
   "outputs": [
    {
     "data": {
      "text/plain": [
       "'\\x00\\x01\\x02'"
      ]
     },
     "execution_count": 10,
     "metadata": {},
     "output_type": "execute_result"
    }
   ],
   "source": [
    "trans_table= {ord(k): i for i, k in enumerate(alphabet_list)}\n",
    "'dna'.translate(trans_table)"
   ]
  },
  {
   "cell_type": "code",
   "execution_count": 11,
   "metadata": {
    "ExecuteTime": {
     "end_time": "2017-06-23T13:50:36.451893Z",
     "start_time": "2017-06-23T13:50:36.429835Z"
    }
   },
   "outputs": [
    {
     "data": {
      "text/plain": [
       "['d',\n",
       " 'dd',\n",
       " 'ddd',\n",
       " 'dddd',\n",
       " 'dddn',\n",
       " 'ddda',\n",
       " 'ddn',\n",
       " 'ddnd',\n",
       " 'ddnn',\n",
       " 'ddna',\n",
       " 'dda',\n",
       " 'ddad',\n",
       " 'ddan',\n",
       " 'ddaa',\n",
       " 'dn',\n",
       " 'dnd',\n",
       " 'dndd',\n",
       " 'dndn',\n",
       " 'dnda',\n",
       " 'dnn',\n",
       " 'dnnd',\n",
       " 'dnnn',\n",
       " 'dnna',\n",
       " 'dna',\n",
       " 'dnad',\n",
       " 'dnan',\n",
       " 'dnaa',\n",
       " 'da',\n",
       " 'dad',\n",
       " 'dadd',\n",
       " 'dadn',\n",
       " 'dada',\n",
       " 'dan',\n",
       " 'dand',\n",
       " 'dann',\n",
       " 'dana',\n",
       " 'daa',\n",
       " 'daad',\n",
       " 'daan',\n",
       " 'daaa',\n",
       " 'n',\n",
       " 'nd',\n",
       " 'ndd',\n",
       " 'nddd',\n",
       " 'nddn',\n",
       " 'ndda',\n",
       " 'ndn',\n",
       " 'ndnd',\n",
       " 'ndnn',\n",
       " 'ndna',\n",
       " 'nda',\n",
       " 'ndad',\n",
       " 'ndan',\n",
       " 'ndaa',\n",
       " 'nn',\n",
       " 'nnd',\n",
       " 'nndd',\n",
       " 'nndn',\n",
       " 'nnda',\n",
       " 'nnn',\n",
       " 'nnnd',\n",
       " 'nnnn',\n",
       " 'nnna',\n",
       " 'nna',\n",
       " 'nnad',\n",
       " 'nnan',\n",
       " 'nnaa',\n",
       " 'na',\n",
       " 'nad',\n",
       " 'nadd',\n",
       " 'nadn',\n",
       " 'nada',\n",
       " 'nan',\n",
       " 'nand',\n",
       " 'nann',\n",
       " 'nana',\n",
       " 'naa',\n",
       " 'naad',\n",
       " 'naan',\n",
       " 'naaa',\n",
       " 'a',\n",
       " 'ad',\n",
       " 'add',\n",
       " 'addd',\n",
       " 'addn',\n",
       " 'adda',\n",
       " 'adn',\n",
       " 'adnd',\n",
       " 'adnn',\n",
       " 'adna',\n",
       " 'ada',\n",
       " 'adad',\n",
       " 'adan',\n",
       " 'adaa',\n",
       " 'an',\n",
       " 'and',\n",
       " 'andd',\n",
       " 'andn',\n",
       " 'anda',\n",
       " 'ann',\n",
       " 'annd',\n",
       " 'annn',\n",
       " 'anna',\n",
       " 'ana',\n",
       " 'anad',\n",
       " 'anan',\n",
       " 'anaa',\n",
       " 'aa',\n",
       " 'aad',\n",
       " 'aadd',\n",
       " 'aadn',\n",
       " 'aada',\n",
       " 'aan',\n",
       " 'aand',\n",
       " 'aann',\n",
       " 'aana',\n",
       " 'aaa',\n",
       " 'aaad',\n",
       " 'aaan',\n",
       " 'aaaa']"
      ]
     },
     "execution_count": 11,
     "metadata": {},
     "output_type": "execute_result"
    }
   ],
   "source": [
    "sorted(combinations, key=lambda x: x.translate(trans_table))"
   ]
  },
  {
   "cell_type": "markdown",
   "metadata": {},
   "source": [
    "you can also use `str.maketrans()` to generate the `trans_table`"
   ]
  },
  {
   "cell_type": "code",
   "execution_count": null,
   "metadata": {
    "collapsed": true
   },
   "outputs": [],
   "source": []
  }
 ],
 "metadata": {
  "kernelspec": {
   "display_name": "Python 3",
   "language": "python",
   "name": "python3"
  },
  "language_info": {
   "codemirror_mode": {
    "name": "ipython",
    "version": 3
   },
   "file_extension": ".py",
   "mimetype": "text/x-python",
   "name": "python",
   "nbconvert_exporter": "python",
   "pygments_lexer": "ipython3",
   "version": "3.6.1"
  },
  "toc": {
   "colors": {
    "hover_highlight": "#DAA520",
    "navigate_num": "#000000",
    "navigate_text": "#333333",
    "running_highlight": "#FF0000",
    "selected_highlight": "#FFD700",
    "sidebar_border": "#EEEEEE",
    "wrapper_background": "#FFFFFF"
   },
   "moveMenuLeft": true,
   "nav_menu": {
    "height": "105px",
    "width": "252px"
   },
   "navigate_menu": true,
   "number_sections": true,
   "sideBar": true,
   "threshold": 4,
   "toc_cell": false,
   "toc_section_display": "block",
   "toc_window_display": false,
   "widenNotebook": false
  }
 },
 "nbformat": 4,
 "nbformat_minor": 2
}
