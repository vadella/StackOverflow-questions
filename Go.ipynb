{
 "cells": [
  {
   "cell_type": "markdown",
   "metadata": {},
   "source": [
    "https://codereview.stackexchange.com/questions/191218/go-board-game-check-for-removed-stones-in-python/191262?noredirect=1#comment367158_191262"
   ]
  },
  {
   "cell_type": "markdown",
   "metadata": {},
   "source": [
    "# Original"
   ]
  },
  {
   "cell_type": "code",
   "execution_count": 1,
   "metadata": {},
   "outputs": [],
   "source": [
    "import numpy as np"
   ]
  },
  {
   "cell_type": "code",
   "execution_count": 2,
   "metadata": {},
   "outputs": [],
   "source": [
    "board = np.array([\n",
    "    [ 1, -1,  0,  0, -1,  1,  0],\n",
    "    [-1,  0,  0,  0, -1,  1,  1],\n",
    "    [ 0,  0,  0,  1, -1,  1,  1],\n",
    "    [ 0,  0,  1, -1,  1, -1, -1],\n",
    "    [ 0,  0,  0,  1,  0,  0, -1],\n",
    "    [ 0,  0,  0,  0,  0, -1,  1],\n",
    "    [ 0,  0,  0,  0,  0,  0,  1],\n",
    "])"
   ]
  },
  {
   "cell_type": "code",
   "execution_count": 3,
   "metadata": {},
   "outputs": [],
   "source": [
    "from enum import IntEnum\n",
    "class Position(IntEnum):\n",
    "    black = -1\n",
    "    empty = 0\n",
    "    white = 1\n",
    "class Liberty(IntEnum):\n",
    "    taken = -9\n",
    "    opponent = -1\n",
    "    unknown = 0\n",
    "    free = 1"
   ]
  },
  {
   "cell_type": "code",
   "execution_count": 4,
   "metadata": {},
   "outputs": [],
   "source": [
    "white_board = (board== Position.white)\n",
    "black_board = (board== Position.black)\n",
    "has_stone = np.logical_or(black_board,white_board)"
   ]
  },
  {
   "cell_type": "code",
   "execution_count": 5,
   "metadata": {},
   "outputs": [],
   "source": [
    "def floodfill(liberties,y,x):\n",
    "    \"\"\"\n",
    "    flood fill a region that is now known to have liberties. 1.0 signals a liberty, 0.0 signals\n",
    "    undecided and -1.0 a known non-liberty (black stone)\n",
    "\n",
    "    liberties is an np.array of currently known liberties and non-liberties\n",
    "    \"\"\"\n",
    "\n",
    "    #\"hidden\" stop clause - not reinvoking for \"liberty\" or \"non-liberty\", only for \"unknown\".\n",
    "    if liberties[y][x] == Liberty.unknown:  \n",
    "        liberties[y][x] = Liberty.free\n",
    "        if y > 0:\n",
    "            floodfill(liberties,y-1,x)\n",
    "        if y < liberties.shape[0] - 1:\n",
    "            floodfill(liberties,y+1,x)\n",
    "        if x > 0:\n",
    "            floodfill(liberties,y,x-1)\n",
    "        if x < liberties.shape[1] - 1:\n",
    "            floodfill(liberties,y,x+1)"
   ]
  },
  {
   "cell_type": "code",
   "execution_count": 6,
   "metadata": {},
   "outputs": [],
   "source": [
    "def capture_pieces(black_board, white_board):\n",
    "    \"\"\"Remove all pieces from the board that have \n",
    "    no liberties. This function modifies the input variables in place.\n",
    "\n",
    "    black_board is a 19x19 np.array with value 1.0 if a black stone is\n",
    "    present and 0.0 otherwise.\n",
    "\n",
    "    white_board is a 19x19 np.array similar to black_board.\n",
    "\n",
    "    \"\"\"\n",
    "\n",
    "    has_stone = np.logical_or(black_board,white_board)\n",
    "    white_liberties = np.ones_like(black_board, dtype='int8') * Liberty.unknown\n",
    "    black_liberties = np.ones_like(white_board, dtype='int8') * Liberty.unknown\n",
    "\n",
    "    # stones in opposite color have no liberties\n",
    "    white_liberties[black_board] = Liberty.opponent\n",
    "    black_liberties[white_board] = Liberty.opponent\n",
    "#     print(list(zip(*np.where(~has_stone))))\n",
    "    for y, x in zip(*np.where(~has_stone)):\n",
    "        floodfill(white_liberties,y,x)\n",
    "        floodfill(black_liberties,y,x)\n",
    "        \n",
    "\n",
    "#     for y in range(has_stone.shape[0]):\n",
    "#         for x in range(has_stone.shape[1]):\n",
    "#             if not has_stone[y,x]:\n",
    "\n",
    "    white_liberties[white_liberties == Liberty.unknown] = Liberty.taken\n",
    "    black_liberties[black_liberties == Liberty.unknown] = Liberty.taken\n",
    "#     print(white_liberties)\n",
    "\n",
    "    white_board = np.where(white_liberties == Liberty.taken, False, white_board)\n",
    "    black_board = np.where(black_liberties == Liberty.taken, False, black_board)\n",
    "#     black_board[black_liberties == Liberty.taken] = False\n",
    "    return black_board, white_board"
   ]
  },
  {
   "cell_type": "code",
   "execution_count": 7,
   "metadata": {},
   "outputs": [
    {
     "name": "stdout",
     "output_type": "stream",
     "text": [
      "2.86 ms ± 215 µs per loop (mean ± std. dev. of 7 runs, 100 loops each)\n"
     ]
    }
   ],
   "source": [
    "white_board = (board== Position.white)\n",
    "black_board = (board== Position.black)\n",
    "%timeit  capture_pieces(black_board, white_board)"
   ]
  },
  {
   "cell_type": "code",
   "execution_count": 8,
   "metadata": {},
   "outputs": [],
   "source": [
    "black_original, white_original = capture_pieces(black_board, white_board)"
   ]
  },
  {
   "cell_type": "markdown",
   "metadata": {},
   "source": [
    "# My original attempt"
   ]
  },
  {
   "cell_type": "code",
   "execution_count": 9,
   "metadata": {},
   "outputs": [],
   "source": [
    "def capture_coloured_pieces(board: np.array, colour: Position):\n",
    "    '''\n",
    "    takes a `board` and returns the captured stones of `colour`\n",
    "    '''\n",
    "    liberties = np.ones_like(board) * Liberty.unknown\n",
    "    liberties[board == -colour] = Liberty.opponent\n",
    "    liberties[board == Position.empty] = Liberty.free\n",
    "    empty = set(zip(*np.where(board == Position.empty)))\n",
    "    stones = set(zip(*np.where(board == colour)))\n",
    "    while empty:\n",
    "        start = empty.pop()\n",
    "        # print(f'starting at {start}')\n",
    "        floodfill_set(liberties, start, empty, stones)\n",
    "#     b1 = board.copy()\n",
    "#     for x, y in stones:\n",
    "#         b1[x, y] = Liberty.taken\n",
    "    b1 = board.copy()\n",
    "    stone_coords = list(zip(*stones))\n",
    "    b1[stone_coords] = Position.empty\n",
    "\n",
    "    return b1 == colour\n",
    "#     return stones, liberties, b1\n"
   ]
  },
  {
   "cell_type": "code",
   "execution_count": 10,
   "metadata": {},
   "outputs": [],
   "source": [
    "def floodfill_set(liberties, coord, empty, stones):\n",
    "    x, y = coord\n",
    "#     print(f'test {coord},{ liberties[x, y]}')\n",
    "    empty.discard(coord)\n",
    "    stones.discard(coord)\n",
    "    liberties[x, y] = Liberty.free\n",
    "    coords = ((x, y-1), (x, y+1), (x-1, y), (x+1, y))\n",
    "\n",
    "    for coord in coords:\n",
    "        if coord in (empty | stones):\n",
    "            floodfill_set(liberties, coord, empty, stones)"
   ]
  },
  {
   "cell_type": "code",
   "execution_count": 11,
   "metadata": {},
   "outputs": [],
   "source": [
    "assert np.array_equal(black_original, capture_coloured_pieces(board, Position.black))\n",
    "assert np.array_equal(white_original, capture_coloured_pieces(board, Position.white))"
   ]
  },
  {
   "cell_type": "code",
   "execution_count": 12,
   "metadata": {},
   "outputs": [
    {
     "name": "stdout",
     "output_type": "stream",
     "text": [
      "444 µs ± 23.7 µs per loop (mean ± std. dev. of 7 runs, 1000 loops each)\n"
     ]
    }
   ],
   "source": [
    "%timeit capture_coloured_pieces(board, Position.black), capture_coloured_pieces(board, Position.white)"
   ]
  },
  {
   "cell_type": "markdown",
   "metadata": {},
   "source": [
    "# only set\n"
   ]
  },
  {
   "cell_type": "code",
   "execution_count": 13,
   "metadata": {},
   "outputs": [],
   "source": [
    "def capture_coloured_pieces2(board: np.array, colour: Position):\n",
    "    '''\n",
    "    takes a `board` and returns the captured stones of `colour`\n",
    "    '''\n",
    "    empty = set(zip(*np.where(board == Position.empty)))\n",
    "    stones = set(zip(*np.where(board == colour)))\n",
    "    while empty:\n",
    "        start = empty.pop()\n",
    "        # print(f'starting at {start}')\n",
    "        floodfill_set2(start, empty, stones)\n",
    "    b1 = board.copy()\n",
    "    stone_coords = list(zip(*stones))\n",
    "    b1[stone_coords] = Position.empty\n",
    "\n",
    "    return b1 == colour\n",
    "def floodfill_set2(coord, empty, stones):\n",
    "    x, y = coord\n",
    "#     print(f'test {coord},{ liberties[x, y]}')\n",
    "    empty.discard(coord)\n",
    "    stones.discard(coord)\n",
    "    coords = ((x, y-1), (x, y+1), (x-1, y), (x+1, y))\n",
    "\n",
    "    for coord in coords:\n",
    "        if coord in (empty | stones):\n",
    "            floodfill_set2(coord, empty, stones)"
   ]
  },
  {
   "cell_type": "code",
   "execution_count": 14,
   "metadata": {},
   "outputs": [],
   "source": [
    "assert np.array_equal(black_original, capture_coloured_pieces2(board, Position.black))\n",
    "assert np.array_equal(white_original, capture_coloured_pieces2(board, Position.white))"
   ]
  },
  {
   "cell_type": "code",
   "execution_count": 15,
   "metadata": {},
   "outputs": [
    {
     "name": "stdout",
     "output_type": "stream",
     "text": [
      "368 µs ± 17.9 µs per loop (mean ± std. dev. of 7 runs, 1000 loops each)\n"
     ]
    }
   ],
   "source": [
    "%timeit capture_coloured_pieces2(board, Position.black), capture_coloured_pieces2(board, Position.white)"
   ]
  },
  {
   "cell_type": "markdown",
   "metadata": {},
   "source": [
    "# Convolution"
   ]
  },
  {
   "cell_type": "code",
   "execution_count": 16,
   "metadata": {},
   "outputs": [],
   "source": [
    "from scipy.signal import fftconvolve"
   ]
  },
  {
   "cell_type": "code",
   "execution_count": 17,
   "metadata": {},
   "outputs": [],
   "source": [
    "kernel = np.array([\n",
    "    [0, 1, 0],\n",
    "    [1, 1, 1],\n",
    "    [0, 1, 0],\n",
    "])"
   ]
  },
  {
   "cell_type": "code",
   "execution_count": 51,
   "metadata": {},
   "outputs": [],
   "source": [
    "def capture_colour(board, color):\n",
    "    sentinel = 1000\n",
    "    b1 = board.copy()\n",
    "    b1[board == Position.empty] = sentinel\n",
    "    b1[board == -color] = 0\n",
    "    b1[board == color] = 1\n",
    "#     print(b1)\n",
    "    ret = fftconvolve(b1, kernel, mode='same')\n",
    "#     print(ret)\n",
    "    ret[board == -color] = -color\n",
    "    ret[board == Position.empty] = Position.empty\n",
    "    ret[(board == color) & (ret < sentinel)] = color\n",
    "    ret[(board == color) & (ret >= sentinel)] = Position.empty\n",
    "    return ret.astype(int)"
   ]
  },
  {
   "cell_type": "code",
   "execution_count": 54,
   "metadata": {},
   "outputs": [],
   "source": [
    "def capture_all(board, colour):\n",
    "    board1, board2 = capture_colour(board, colour), board\n",
    "    c = 0\n",
    "    while not np.array_equal(board1, board2):\n",
    "#         print(f'iteration {c}')\n",
    "        c += 1\n",
    "        board1, board2 = capture_colour(board1, colour), board1\n",
    "#     print(board1)\n",
    "    return (board == colour) & (board != board1)"
   ]
  },
  {
   "cell_type": "code",
   "execution_count": 26,
   "metadata": {},
   "outputs": [
    {
     "data": {
      "text/plain": [
       "array([[ 1, -1,  0,  0, -1,  1,  0],\n",
       "       [-1,  0,  0,  0, -1,  1,  1],\n",
       "       [ 0,  0,  0,  1, -1,  1,  1],\n",
       "       [ 0,  0,  1, -1,  1, -1, -1],\n",
       "       [ 0,  0,  0,  1,  0,  0, -1],\n",
       "       [ 0,  0,  0,  0,  0, -1,  1],\n",
       "       [ 0,  0,  0,  0,  0,  0,  1]])"
      ]
     },
     "execution_count": 26,
     "metadata": {},
     "output_type": "execute_result"
    }
   ],
   "source": [
    "board"
   ]
  },
  {
   "cell_type": "code",
   "execution_count": 55,
   "metadata": {},
   "outputs": [
    {
     "data": {
      "text/plain": [
       "(array([[False,  True, False, False,  True, False, False],\n",
       "        [ True, False, False, False,  True, False, False],\n",
       "        [False, False, False, False,  True, False, False],\n",
       "        [False, False, False, False, False,  True,  True],\n",
       "        [False, False, False, False, False, False,  True],\n",
       "        [False, False, False, False, False,  True, False],\n",
       "        [False, False, False, False, False, False, False]]),\n",
       " array([[False,  True, False, False,  True, False, False],\n",
       "        [ True, False, False, False,  True, False, False],\n",
       "        [False, False, False, False,  True, False, False],\n",
       "        [False, False, False, False, False,  True,  True],\n",
       "        [False, False, False, False, False, False,  True],\n",
       "        [False, False, False, False, False,  True, False],\n",
       "        [False, False, False, False, False, False, False]]))"
      ]
     },
     "execution_count": 55,
     "metadata": {},
     "output_type": "execute_result"
    }
   ],
   "source": [
    "black_original, capture_all(board, Position.black)"
   ]
  },
  {
   "cell_type": "code",
   "execution_count": 56,
   "metadata": {},
   "outputs": [],
   "source": [
    "assert np.array_equal(black_original, capture_all(board, Position.black))\n",
    "assert np.array_equal(white_original, capture_all(board, Position.white))"
   ]
  },
  {
   "cell_type": "code",
   "execution_count": 57,
   "metadata": {},
   "outputs": [
    {
     "name": "stdout",
     "output_type": "stream",
     "text": [
      "1.29 ms ± 25 µs per loop (mean ± std. dev. of 7 runs, 1000 loops each)\n"
     ]
    }
   ],
   "source": [
    "%timeit capture_all(board, Position.white), capture_all(board, Position.black)"
   ]
  },
  {
   "cell_type": "code",
   "execution_count": null,
   "metadata": {},
   "outputs": [],
   "source": []
  }
 ],
 "metadata": {
  "kernelspec": {
   "display_name": "test environment",
   "language": "python",
   "name": "test_env"
  },
  "language_info": {
   "codemirror_mode": {
    "name": "ipython",
    "version": 3
   },
   "file_extension": ".py",
   "mimetype": "text/x-python",
   "name": "python",
   "nbconvert_exporter": "python",
   "pygments_lexer": "ipython3",
   "version": "3.6.4"
  }
 },
 "nbformat": 4,
 "nbformat_minor": 2
}
