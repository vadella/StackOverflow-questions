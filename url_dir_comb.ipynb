{
 "cells": [
  {
   "cell_type": "markdown",
   "metadata": {},
   "source": [
    "https://codereview.stackexchange.com/questions/196017/splitting-urls-into-hierarchy-level-directories"
   ]
  },
  {
   "cell_type": "code",
   "execution_count": 1,
   "metadata": {},
   "outputs": [],
   "source": [
    "from __future__ import print_function\n",
    "try:\n",
    "    import urlparse\n",
    "    \n",
    "except ModuleNotFoundError:\n",
    "    import urllib.parse as urlparse\n",
    "    xrange = range"
   ]
  },
  {
   "cell_type": "code",
   "execution_count": 2,
   "metadata": {},
   "outputs": [],
   "source": [
    "URL = 'http://example.com/a/b/c/'\n",
    "repetitions = 100"
   ]
  },
  {
   "cell_type": "code",
   "execution_count": 3,
   "metadata": {},
   "outputs": [],
   "source": [
    "def get_domain_with_protocol(url):\n",
    "    url_parts = urlparse.urlparse(url)\n",
    "    return \"{scheme}://{netloc}/\".format(\n",
    "        scheme=url_parts.scheme, \n",
    "        netloc=url_parts.netloc\n",
    "    )"
   ]
  },
  {
   "cell_type": "code",
   "execution_count": 4,
   "metadata": {},
   "outputs": [
    {
     "name": "stdout",
     "output_type": "stream",
     "text": [
      "['http://example.com/a', 'http://example.com/a/b', 'http://example.com/a/b/c']\n"
     ]
    }
   ],
   "source": [
    "def get_url_directories_op(url):\n",
    "    path = urlparse.urlparse(url).path\n",
    "    parts = path.strip('/').split('/')\n",
    "    domain_with_protocol = get_domain_with_protocol(url)\n",
    "    url_combinations = [\n",
    "        domain_with_protocol + '/'.join(parts[:index + 1])\n",
    "        for index in xrange(len(parts))\n",
    "    ]\n",
    "    return url_combinations\n",
    "print(get_url_directories_op(URL))"
   ]
  },
  {
   "cell_type": "code",
   "execution_count": 5,
   "metadata": {},
   "outputs": [
    {
     "name": "stdout",
     "output_type": "stream",
     "text": [
      "['http://example.com/a', 'http://example.com/a/b', 'http://example.com/a/b/c']\n"
     ]
    }
   ],
   "source": [
    "def get_url_directories_combinations_enumerate(url):\n",
    "    path = urlparse.urlparse(url).path\n",
    "    parts = path.strip('/').split('/')\n",
    "    domain_with_protocol = get_domain_with_protocol(url)\n",
    "    url_combinations = [\n",
    "        domain_with_protocol + '/'.join(parts[:index + 1])\n",
    "        for index, _ in enumerate(parts)\n",
    "    ]\n",
    "    return url_combinations\n",
    "print(get_url_directories_combinations_enumerate(URL))"
   ]
  },
  {
   "cell_type": "code",
   "execution_count": 6,
   "metadata": {},
   "outputs": [
    {
     "name": "stdout",
     "output_type": "stream",
     "text": [
      "['http://example.com/a', 'http://example.com/a/b', 'http://example.com/a/b/c']\n"
     ]
    }
   ],
   "source": [
    "def get_url_directories_iter(url):\n",
    "    path = urlparse.urlparse(url).path\n",
    "    parts = path.strip('/').split('/')\n",
    "    domain_with_protocol = get_domain_with_protocol(url)\n",
    "    for index in xrange(len(parts)):\n",
    "        yield domain_with_protocol + '/'.join(parts[:index + 1])\n",
    "print(list(get_url_directories_iter(URL)))"
   ]
  },
  {
   "cell_type": "code",
   "execution_count": 7,
   "metadata": {},
   "outputs": [],
   "source": [
    "def accumulate_parts(parts, sep='/'):\n",
    "    parts_iter = iter(parts)\n",
    "    substring = next(parts_iter)\n",
    "    yield substring\n",
    "    for part in parts_iter:\n",
    "        substring += sep + part\n",
    "        yield substring"
   ]
  },
  {
   "cell_type": "code",
   "execution_count": 8,
   "metadata": {},
   "outputs": [
    {
     "data": {
      "text/plain": [
       "['a', 'a/b', 'a/b/c']"
      ]
     },
     "execution_count": 8,
     "metadata": {},
     "output_type": "execute_result"
    }
   ],
   "source": [
    "list(accumulate_parts('abc'))"
   ]
  },
  {
   "cell_type": "code",
   "execution_count": 9,
   "metadata": {},
   "outputs": [
    {
     "data": {
      "text/plain": [
       "['http://example.com/a', 'http://example.com/a/b', 'http://example.com/a/b/c']"
      ]
     },
     "execution_count": 9,
     "metadata": {},
     "output_type": "execute_result"
    }
   ],
   "source": [
    "def get_url_directories_accumulate(url):\n",
    "    path = urlparse.urlparse(url).path\n",
    "    parts = path.strip('/').split('/')\n",
    "    domain_with_protocol = get_domain_with_protocol(url)\n",
    "    for substring in accumulate_parts(parts):\n",
    "        yield domain_with_protocol + substring\n",
    "list(get_url_directories_accumulate(URL))"
   ]
  },
  {
   "cell_type": "code",
   "execution_count": 10,
   "metadata": {},
   "outputs": [],
   "source": [
    "result_op = get_url_directories_op(URL)\n",
    "assert list(get_url_directories_iter(URL)) == result_op\n",
    "assert get_url_directories_combinations_enumerate(URL) == result_op\n",
    "assert list(get_url_directories_accumulate(URL)) == result_op"
   ]
  },
  {
   "cell_type": "code",
   "execution_count": 11,
   "metadata": {},
   "outputs": [
    {
     "name": "stdout",
     "output_type": "stream",
     "text": [
      "957 µs ± 65.1 µs per loop (mean ± std. dev. of 7 runs, 1000 loops each)\n"
     ]
    }
   ],
   "source": [
    "%timeit [get_url_directories_op(URL) for _ in range(repetitions)]"
   ]
  },
  {
   "cell_type": "code",
   "execution_count": 12,
   "metadata": {},
   "outputs": [
    {
     "name": "stdout",
     "output_type": "stream",
     "text": [
      "940 µs ± 48.9 µs per loop (mean ± std. dev. of 7 runs, 1000 loops each)\n"
     ]
    }
   ],
   "source": [
    "%timeit [list(get_url_directories_iter(URL)) for _ in range(repetitions)]"
   ]
  },
  {
   "cell_type": "code",
   "execution_count": 13,
   "metadata": {},
   "outputs": [
    {
     "name": "stdout",
     "output_type": "stream",
     "text": [
      "906 µs ± 5.78 µs per loop (mean ± std. dev. of 7 runs, 1000 loops each)\n"
     ]
    }
   ],
   "source": [
    "%timeit [get_url_directories_combinations_enumerate(URL) for _ in range(repetitions)]"
   ]
  },
  {
   "cell_type": "code",
   "execution_count": 14,
   "metadata": {},
   "outputs": [
    {
     "name": "stdout",
     "output_type": "stream",
     "text": [
      "910 µs ± 13.7 µs per loop (mean ± std. dev. of 7 runs, 1000 loops each)\n"
     ]
    }
   ],
   "source": [
    "%timeit [list(get_url_directories_accumulate(URL)) for _ in range(repetitions)]"
   ]
  },
  {
   "cell_type": "code",
   "execution_count": null,
   "metadata": {},
   "outputs": [],
   "source": []
  },
  {
   "cell_type": "code",
   "execution_count": null,
   "metadata": {},
   "outputs": [],
   "source": []
  }
 ],
 "metadata": {
  "kernelspec": {
   "display_name": "Python [conda root]",
   "language": "python",
   "name": "conda-root-py"
  },
  "language_info": {
   "codemirror_mode": {
    "name": "ipython",
    "version": 3
   },
   "file_extension": ".py",
   "mimetype": "text/x-python",
   "name": "python",
   "nbconvert_exporter": "python",
   "pygments_lexer": "ipython3",
   "version": "3.6.5"
  }
 },
 "nbformat": 4,
 "nbformat_minor": 2
}
